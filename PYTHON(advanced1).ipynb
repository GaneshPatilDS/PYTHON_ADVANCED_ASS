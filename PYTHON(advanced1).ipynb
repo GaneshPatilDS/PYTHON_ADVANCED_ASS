{
 "cells": [
  {
   "cell_type": "markdown",
   "id": "61d88380-fb6d-4a4d-b095-e0cdd180103f",
   "metadata": {},
   "source": [
    "# QUESTIONS :"
   ]
  },
  {
   "cell_type": "markdown",
   "id": "b80fa3ff-4aaa-49b3-b740-17d9945ed26f",
   "metadata": {},
   "source": [
    "Q1. What is the purpose of Python&#39;s OOP?\n",
    "\n",
    "\n",
    "Q2. Where does an inheritance search look for an attribute?\n",
    "\n",
    "\n",
    "Q3. How do you distinguish between a class object and an instance object?\n",
    "\n",
    "\n",
    "Q4. What makes the first argument in a class’s method function special?\n",
    "\n",
    "\n",
    "Q5. What is the purpose of the __init__ method?\n",
    "\n",
    "\n",
    "Q6. What is the process for creating a class instance?\n",
    "\n",
    "\n",
    "Q7. What is the process for creating a class?\n",
    "\n",
    "\n",
    "Q8. How would you define the superclasses of a class?\n",
    "\n",
    "--------------------------------------------------------------------------------------------------------------------------------------------"
   ]
  },
  {
   "cell_type": "markdown",
   "id": "55764f06-cd6b-4b34-8360-4880d9f9120e",
   "metadata": {},
   "source": [
    "# ANS"
   ]
  },
  {
   "cell_type": "markdown",
   "id": "d5c1946b-a339-4252-a00f-b13af713452d",
   "metadata": {},
   "source": [
    "Q1. The purpose of Python's Object-Oriented Programming (OOP) is to enable the organization and management of code through the concept of classes and objects. OOP promotes modularity, reusability, and a clear representation of real-world entities and their interactions.\n",
    "\n",
    "-------------------------------------------------------------------------------------------------------------------------------------------\n",
    "\n",
    "Q2. Inheritance search for an attribute starts within the instance itself. If not found, it proceeds to search the class, and then follows the inheritance hierarchy upwards to search in parent classes.\n",
    "\n",
    "-------------------------------------------------------------------------------------------------------------------------------------------\n",
    "\n",
    "Q3. A class object is the blueprint or definition of a class, while an instance object is a specific realization of that class, created using the blueprint. Instances have their own unique attributes and values.\n",
    "\n",
    "-------------------------------------------------------------------------------------------------------------------------------------------\n",
    "\n",
    "Q4. The first argument in a class's method function (usually named self) refers to the instance that the method is being called on. It allows the method to access and manipulate the instance's attributes and methods.\n",
    "\n",
    "------------------------------------------------------------------------------------------------------------------------------------------\n",
    "\n",
    "Q5. The purpose of the __init__ method is to initialize an instance of a class. It is called automatically when an instance is created and is used to set up initial attributes and perform any necessary setup actions.\n",
    "\n",
    "\n",
    "-------------------------------------------------------------------------------------------------------------------------------------------\n",
    "\n",
    "Q6. To create a class instance, you call the class's constructor by using the class name followed by parentheses, optionally passing any required or optional arguments. For example: my_instance = MyClass(arg1, arg2).\n",
    "\n",
    "\n",
    "Q7. To create a class, you define its structure using the class keyword followed by the class name and a colon. Inside the class block, you can define attributes and methods that the class will have.\n",
    "\n",
    "\n",
    "Q8. The superclasses of a class are the parent classes from which the current class inherits. They are the classes higher up in the inheritance hierarchy, providing attributes and methods that can be inherited and overridden by the subclass.\n",
    "\n",
    "\n",
    "\n",
    "\n",
    "\n"
   ]
  }
 ],
 "metadata": {
  "kernelspec": {
   "display_name": "Python 3 (ipykernel)",
   "language": "python",
   "name": "python3"
  },
  "language_info": {
   "codemirror_mode": {
    "name": "ipython",
    "version": 3
   },
   "file_extension": ".py",
   "mimetype": "text/x-python",
   "name": "python",
   "nbconvert_exporter": "python",
   "pygments_lexer": "ipython3",
   "version": "3.10.6"
  }
 },
 "nbformat": 4,
 "nbformat_minor": 5
}
