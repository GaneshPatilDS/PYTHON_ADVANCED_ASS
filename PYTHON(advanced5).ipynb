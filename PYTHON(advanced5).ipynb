{
 "cells": [
  {
   "cell_type": "markdown",
   "id": "71ed804b-971c-4ee3-9c04-b1943130aaf1",
   "metadata": {},
   "source": [
    "# QUESTIONS :"
   ]
  },
  {
   "cell_type": "markdown",
   "id": "d79d9259-bad2-42e2-850f-baaf0474ceb1",
   "metadata": {},
   "source": [
    "Q1. What is the meaning of multiple inheritance?\n",
    "\n",
    "Q2. What is the concept of delegation?\n",
    "\n",
    "Q3. What is the concept of composition?\n",
    "\n",
    "Q4. What are bound methods and how do we use them?\n",
    "\n",
    "Q5. What is the purpose of pseudoprivate attributes?\n",
    "\n",
    "------------------------------------------------------------------------------------------------------------------------"
   ]
  },
  {
   "cell_type": "markdown",
   "id": "38dcbf49-191b-401b-a406-a094a7079c36",
   "metadata": {},
   "source": [
    "# ANS:"
   ]
  },
  {
   "cell_type": "markdown",
   "id": "4cf30e36-5a55-4d6f-80e7-625f211bd3d2",
   "metadata": {},
   "source": [
    "\n",
    "\n",
    "Q1.\n",
    "=>\n",
    "Multiple inheritance refers to the ability of a class to inherit attributes and behaviors from more than one parent class. In multiple inheritance, a class can inherit from multiple superclasses, allowing it to access and use attributes and methods from all of them.\n",
    "\n",
    "------------------------------------------------------------------------------------------------------------------------\n",
    "\n",
    "Q2.\n",
    "=>\n",
    "The concept of delegation involves using one object to delegate certain responsibilities or actions to another object. Instead of directly implementing certain methods in a class, the class can delegate the implementation to another object that specializes in those tasks. This promotes modular design and code reuse.\n",
    "\n",
    "------------------------------------------------------------------------------------------------------------------------\n",
    "\n",
    "Q3.\n",
    "=>\n",
    "Composition is a design principle in which a class is composed of or \"has-a\" relationship with other classes as its components. This is in contrast to inheritance, where a class \"is-a\" relationship with its parent classes. Composition allows you to build complex objects by combining simpler objects, promoting code reusability and flexibility.\n",
    "\n",
    "------------------------------------------------------------------------------------------------------------------------\n",
    "\n",
    "Q4.\n",
    "=>\n",
    "Bound methods are methods of a class that have been associated with a specific instance of that class. They are created when you access a method of an instance, and the method is automatically passed the instance as the first argument (`self`). Bound methods are how instance methods are called and operate on the data specific to that instance.\n",
    "\n",
    "------------------------------------------------------------------------------------------------------------------------\n",
    "Q5.\n",
    "=>\n",
    "Pseudoprivate attributes in Python are attributes that have names starting with two underscores and not ending with more than one underscore. They are intended to provide a form of name mangling to make attributes less likely to clash with attributes in subclasses. However, they are still accessible from outside the class using the `_classname__attribute` notation. The purpose of pseudoprivate attributes is to minimize accidental attribute name conflicts while allowing access when necessary.\n",
    "\n",
    "------------------------------------------------------------------------------------------------------------------------"
   ]
  },
  {
   "cell_type": "code",
   "execution_count": null,
   "id": "3bafb6c6-f28b-4e44-94e5-796bebca783d",
   "metadata": {},
   "outputs": [],
   "source": []
  },
  {
   "cell_type": "code",
   "execution_count": null,
   "id": "379994bd-2b96-4377-952d-8e87ff1d5a66",
   "metadata": {},
   "outputs": [],
   "source": []
  }
 ],
 "metadata": {
  "kernelspec": {
   "display_name": "Python 3 (ipykernel)",
   "language": "python",
   "name": "python3"
  },
  "language_info": {
   "codemirror_mode": {
    "name": "ipython",
    "version": 3
   },
   "file_extension": ".py",
   "mimetype": "text/x-python",
   "name": "python",
   "nbconvert_exporter": "python",
   "pygments_lexer": "ipython3",
   "version": "3.10.6"
  }
 },
 "nbformat": 4,
 "nbformat_minor": 5
}
