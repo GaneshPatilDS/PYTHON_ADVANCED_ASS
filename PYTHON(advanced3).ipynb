{
 "cells": [
  {
   "cell_type": "markdown",
   "id": "ba2411b9-0e01-42fd-be7c-8bc57c35c98b",
   "metadata": {},
   "source": [
    "# QUESTIONS"
   ]
  },
  {
   "cell_type": "markdown",
   "id": "892a277c-c805-410f-aa18-21f2353f71f9",
   "metadata": {},
   "source": [
    "\n",
    "1. What is the concept of an abstract superclass?\n",
    "\n",
    "\n",
    "2. What happens when a class statement&#39;s top level contains a basic assignment statement?\n",
    "\n",
    "\n",
    "3. Why does a class need to manually call a superclass&#39;s __init__ method?\n",
    "\n",
    "\n",
    "4. How can you augment, instead of completely replacing, an inherited method?\n",
    "\n",
    "\n",
    "5. How is the local scope of a class different from that of a function?\n",
    "\n",
    "--------------------------------------------------------------------------------------------------------------------------------------------"
   ]
  },
  {
   "cell_type": "markdown",
   "id": "2ac21cc7-58d3-4f9a-b048-74beacdf483a",
   "metadata": {},
   "source": [
    "# ANS"
   ]
  },
  {
   "cell_type": "markdown",
   "id": "d76cda21-1c09-44c4-b899-a94416c78395",
   "metadata": {},
   "source": [
    "\n",
    "Q1. An abstract superclass is a class that is designed to be inherited by other classes, but it is not intended to be instantiated itself. It often includes methods that provide a common interface for its subclasses. Abstract superclasses usually have methods with just method signatures (no actual implementation), which the subclasses must override to provide their specific implementations.\n",
    "\n",
    "\n",
    "Q2. When a class statement's top level contains a basic assignment statement, it defines a class attribute that is shared by all instances of the class. This attribute is shared among instances, as opposed to instance attributes that are unique to each instance.\n",
    "\n",
    "\n",
    "Q3. A class needs to manually call a superclass's `__init__` method when it wants to reuse the initialization behavior of the superclass. This is particularly important when the subclass introduces its own attributes or behavior in addition to what the superclass provides. By calling the superclass's `__init__` method, the subclass can ensure that the superclass's initialization logic is executed.\n",
    "\n",
    "\n",
    "Q4. To augment an inherited method without completely replacing it, you can use method overriding. In the subclass, you can define a method with the same name as the inherited method. This new method can call the parent class's method using the `super()` function and then add additional functionality before or after the call to the parent method.\n",
    "\n",
    "\n",
    "Q5. The local scope of a class and that of a function are different:\n",
    "\n",
    "   - **Class Scope**: Attributes defined within a class are accessible throughout the class. These attributes can be class attributes (shared among instances) or instance attributes (specific to each instance).\n",
    "   \n",
    "   - **Function Scope**: Variables defined within a function are local to that function and are only accessible within its scope. They cannot be directly accessed from outside the function.\n",
    "\n",
    "   Additionally, methods within a class can access both class and instance attributes, whereas functions outside a class do not inherently have this capability. To access class or instance attributes from within a method, you need to use the `self` or the class name.\n",
    "\n",
    "Keep in mind that understanding these distinctions is crucial when designing and working with classes in Python."
   ]
  }
 ],
 "metadata": {
  "kernelspec": {
   "display_name": "Python 3 (ipykernel)",
   "language": "python",
   "name": "python3"
  },
  "language_info": {
   "codemirror_mode": {
    "name": "ipython",
    "version": 3
   },
   "file_extension": ".py",
   "mimetype": "text/x-python",
   "name": "python",
   "nbconvert_exporter": "python",
   "pygments_lexer": "ipython3",
   "version": "3.10.6"
  }
 },
 "nbformat": 4,
 "nbformat_minor": 5
}
