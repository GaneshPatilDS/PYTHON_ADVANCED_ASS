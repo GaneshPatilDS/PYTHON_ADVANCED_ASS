{
 "cells": [
  {
   "cell_type": "markdown",
   "id": "31d020d9-2f22-49a8-90a4-5b605ee0785e",
   "metadata": {},
   "source": [
    "# QUESTIONS :"
   ]
  },
  {
   "cell_type": "markdown",
   "id": "c50682dd-ceeb-47e7-8ab3-bb4a7f64e699",
   "metadata": {},
   "source": [
    "--------------------------------------------------------------------------------------------------------------\n",
    "\n",
    "Q1. What is the difference between __getattr__ and __getattribute__?\n",
    "\n",
    "Q2. What is the difference between properties and descriptors?\n",
    "\n",
    "Q3. What are the key differences in functionality between __getattr__ and __getattribute__, as well as\n",
    "properties and descriptors?\n",
    "\n",
    "--------------------------------------------------------------------------------------------------------------"
   ]
  },
  {
   "cell_type": "markdown",
   "id": "f2c595f4-feb1-43df-846f-f85ee9075d38",
   "metadata": {},
   "source": [
    "# ANS :"
   ]
  },
  {
   "cell_type": "markdown",
   "id": "522321fb-cd5e-4b37-8025-7fabea44b587",
   "metadata": {},
   "source": [
    "------------------------------------------------------------------------------------------------------------------------------------------------------\n",
    "\n",
    "\n",
    "**Q1. What is the difference between `__getattr__` and `__getattribute__`?**\n",
    "\n",
    "------------\n",
    "- `__getattr__`: This is a special method in Python classes that is invoked when you try to access an attribute that doesn't exist in an instance. It's a fallback mechanism for attribute access.\n",
    "- `__getattribute__`: This is another special method that is always called when an attribute is accessed, regardless of whether it exists or not. It allows you to intercept all attribute accesses.\n",
    "\n",
    "--------------------------------------------------------------------------------------------------------------------------------------------------\n",
    "\n",
    "**Q2. What is the difference between properties and descriptors?**\n",
    "\n",
    "---------------------------------------------------------------------------------------------------------------------------------------------------\n",
    "\n",
    "- Properties: Properties are a way to add getter and setter methods to class attributes. They allow you to define custom behavior for attribute access and modification. Properties are defined using the `property` built-in function or the `@property` decorator.\n",
    "- Descriptors: Descriptors are a more general mechanism in Python for defining how attribute access works. They allow you to define custom behavior not only for reading and writing attributes but also for deleting them. Descriptors are implemented as classes with special methods like `__get__`, `__set__`, and `__delete__`.\n",
    "\n",
    "---------------------------------------------------------------------------------------------------------------------------------------------------\n",
    "\n",
    "**Q3. What are the key differences in functionality between `__getattr__` and `__getattribute__`, as well as properties and descriptors?**\n",
    "\n",
    "---------------------------------------------------------------------------------------------------------------------------------------------------\n",
    "- `__getattr__`:\n",
    "  - Called when trying to access a non-existent attribute.\n",
    "  - Acts as a fallback mechanism for attribute access.\n",
    "  - Can be used for dynamic attribute retrieval or to provide default values.\n",
    "  - Does not affect the access of existing attributes.\n",
    "- `__getattribute__`:\n",
    "  - Called for all attribute access, including existing attributes.\n",
    "  - Allows you to intercept and customize access to all attributes.\n",
    "  - Requires careful implementation to avoid infinite recursion.\n",
    "  - Typically used for advanced attribute interception.\n",
    "\n",
    "- Properties:\n",
    "  - Provide a way to define custom behavior for attribute access and modification.\n",
    "  - Applied to specific attributes and allow getter and setter methods.\n",
    "  - Enhance readability and maintainability by encapsulating attribute access logic.\n",
    "  - Do not affect the access of other attributes.\n",
    "  \n",
    "- Descriptors:\n",
    "  - A more general mechanism for defining custom attribute access behavior.\n",
    "  - Applied to one or more attributes using a descriptor class.\n",
    "  - Allow you to define behavior for reading, writing, and deleting attributes.\n",
    "  - Can affect the access of multiple attributes using the same descriptor.\n",
    "\n",
    "------------------------------------------------------------------------------------------------------------------------------------------------------"
   ]
  }
 ],
 "metadata": {
  "kernelspec": {
   "display_name": "Python 3 (ipykernel)",
   "language": "python",
   "name": "python3"
  },
  "language_info": {
   "codemirror_mode": {
    "name": "ipython",
    "version": 3
   },
   "file_extension": ".py",
   "mimetype": "text/x-python",
   "name": "python",
   "nbconvert_exporter": "python",
   "pygments_lexer": "ipython3",
   "version": "3.10.6"
  }
 },
 "nbformat": 4,
 "nbformat_minor": 5
}
