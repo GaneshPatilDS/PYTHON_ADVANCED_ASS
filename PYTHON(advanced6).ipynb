{
 "cells": [
  {
   "cell_type": "markdown",
   "id": "0870f09e-0fb5-43f9-ad3e-dd3227142d92",
   "metadata": {},
   "source": [
    "# QUESTIONS :"
   ]
  },
  {
   "cell_type": "markdown",
   "id": "e2d91a34-0918-4638-bf7c-bc71a97296d3",
   "metadata": {},
   "source": [
    "Q1. Describe three applications for exception processing.\n",
    "\n",
    "Q2. What happens if you don&#39;t do something extra to treat an exception?\n",
    "\n",
    "Q3. What are your options for recovering from an exception in your script?\n",
    "\n",
    "Q4. Describe two methods for triggering exceptions in your script.\n",
    "\n",
    "Q5. Identify two methods for specifying actions to be executed at termination time, regardless of\n",
    "whether or not an exception exists.\n",
    "\n",
    "----------------------------------------------------------------------------------------------------------------------"
   ]
  },
  {
   "cell_type": "code",
   "execution_count": null,
   "id": "cbabc164-c990-40df-9bdd-bfbef1df4721",
   "metadata": {},
   "outputs": [],
   "source": []
  },
  {
   "cell_type": "markdown",
   "id": "59f921d1-7e96-4e09-ad8e-d15ddac8680e",
   "metadata": {},
   "source": [
    "# ANS :"
   ]
  },
  {
   "cell_type": "code",
   "execution_count": null,
   "id": "352d9000-3113-4bc4-a1f0-cac5a6624ff7",
   "metadata": {},
   "outputs": [],
   "source": [
    "Sure, I'd be happy to explain those Python questions in point format with easy-to-understand language:\n",
    "\n",
    "**Q1. Describe three applications for exception processing:**\n",
    "- **Error Handling:** Catch and manage errors that may occur during program execution.\n",
    "- **File Operations:** Handle situations where files can't be opened, read, or written properly.\n",
    "- **Input Validation:** Check user inputs for correctness, avoiding crashes due to invalid data.\n",
    "\n",
    "**Q2. What happens if you don't do something extra to treat an exception?**\n",
    "- **Crash:** If an unhandled exception occurs, the program abruptly stops and displays an error message, making it hard to continue executing the code.\n",
    "\n",
    "**Q3. What are your options for recovering from an exception in your script?**\n",
    "- **Try-Except Block:** Surround potentially error-prone code with a `try` block; if an exception occurs, the `except` block can handle it gracefully.\n",
    "- **Multiple Except Blocks:** Different `except` blocks can handle different types of exceptions.\n",
    "- **Finally Block:** The `finally` block can be used to execute code regardless of whether an exception was raised or not.\n",
    "\n",
    "**Q4. Describe two methods for triggering exceptions in your script:**\n",
    "- **Raise Statement:** You can manually raise an exception using the `raise` statement. For instance, `raise ValueError(\"Invalid value\")` raises a `ValueError` exception.\n",
    "- **Built-in Exceptions:** Many built-in exceptions are raised automatically by Python, like `ZeroDivisionError` when dividing by zero.\n",
    "\n",
    "**Q5. Identify two methods for specifying actions to be executed at termination time, regardless of whether or not an exception exists:**\n",
    "- **Finally Block:** The `finally` block, placed after a `try` and/or `except` block, contains code that will run regardless of whether an exception was raised.\n",
    "- **Atexit Module:** You can use the `atexit` module to register functions that should be executed when the program terminates, even if no exceptions were raised."
   ]
  }
 ],
 "metadata": {
  "kernelspec": {
   "display_name": "Python 3 (ipykernel)",
   "language": "python",
   "name": "python3"
  },
  "language_info": {
   "codemirror_mode": {
    "name": "ipython",
    "version": 3
   },
   "file_extension": ".py",
   "mimetype": "text/x-python",
   "name": "python",
   "nbconvert_exporter": "python",
   "pygments_lexer": "ipython3",
   "version": "3.10.6"
  }
 },
 "nbformat": 4,
 "nbformat_minor": 5
}
