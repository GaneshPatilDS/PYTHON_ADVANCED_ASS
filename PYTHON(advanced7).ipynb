{
 "cells": [
  {
   "cell_type": "markdown",
   "id": "bfbe0ed8-a06f-4853-a4e8-ad8f4660172f",
   "metadata": {},
   "source": [
    "# QUESTIONS :\n"
   ]
  },
  {
   "cell_type": "markdown",
   "id": "57815534-bb1e-482c-93d5-5dee5e4d166b",
   "metadata": {},
   "source": [
    "--------------------------------------------------------------------------------------------------------------\n",
    "\n",
    "Q1. What is the purpose of the try statement?\n",
    "\n",
    "Q2. What are the two most popular try statement variations?\n",
    "\n",
    "Q3. What is the purpose of the raise statement?\n",
    "\n",
    "Q4. What does the assert statement do, and what other statement is it like?\n",
    "\n",
    "Q5. What is the purpose of the with/as argument, and what other statement is it like?"
   ]
  },
  {
   "cell_type": "markdown",
   "id": "8e40b46f-f95b-4d6a-8fdd-2c987053c112",
   "metadata": {},
   "source": [
    "--------------------------------------------------------------------------------------------------------------"
   ]
  },
  {
   "cell_type": "markdown",
   "id": "f6938282-9964-4fea-bb29-411ca2286fa0",
   "metadata": {},
   "source": [
    "# ANS :"
   ]
  },
  {
   "cell_type": "code",
   "execution_count": null,
   "id": "a387427a-05db-417e-9788-22eb38b16b44",
   "metadata": {},
   "outputs": [],
   "source": []
  },
  {
   "cell_type": "markdown",
   "id": "d3737ac0-2441-4afc-96bd-96cb0664bb0b",
   "metadata": {},
   "source": [
    "\n",
    "**Q1. What is the purpose of the try statement?**\n",
    "\n",
    "- **Purpose:** The `try` statement is used for error handling in Python. It allows you to enclose a block of code that might raise an exception. If an exception occurs within the `try` block, it can be caught and handled using the `except` block, preventing the program from crashing.\n",
    "\n",
    "--------------------------------------------------------------------------------------------------------------\n",
    "\n",
    "**Q2. What are the two most popular try statement variations?**\n",
    "\n",
    "- **Try-Except:** This is the most common form. It includes a `try` block followed by one or more `except` blocks to catch and handle specific exceptions.\n",
    "- **Try-Finally:** In this variation, a `try` block is followed by a `finally` block. The `finally` block is executed whether an exception is raised or not, often used for cleanup operations.\n",
    "\n",
    "--------------------------------------------------------------------------------------------------------------\n",
    "**Q3. What is the purpose of the raise statement?**\n",
    "\n",
    "- **Purpose:** The `raise` statement is used to manually raise an exception in Python. You can use it to trigger specific exceptions in your code, allowing you to handle custom error scenarios.\n",
    "\n",
    "--------------------------------------------------------------------------------------------------------------\n",
    "**Q4. What does the assert statement do, and what other statement is it like?**\n",
    "\n",
    "- **Purpose:** The `assert` statement is used for debugging and testing. It checks whether a given condition is `True`, and if not, it raises an `AssertionError`. It's similar to an `if` statement but is primarily used for sanity checks during development and can be disabled globally when the code is in production.\n",
    "--------------------------------------------------------------------------------------------------------------\n",
    "**Q5. What is the purpose of the with/as argument, and what other statement is it like?**\n",
    "\n",
    "- **Purpose:** The `with/as` statement is used for resource management, particularly in handling files, database connections, and other objects that need to be opened and closed properly. It simplifies the setup and teardown of resources. It's similar to a `try-finally` block but provides a more concise and readable way to manage resources.\n",
    "\n",
    "--------------------------------------------------------------------------------------------------------------"
   ]
  },
  {
   "cell_type": "code",
   "execution_count": null,
   "id": "d146a36b-8aff-4fc6-b501-6b85da69e792",
   "metadata": {},
   "outputs": [],
   "source": []
  }
 ],
 "metadata": {
  "kernelspec": {
   "display_name": "Python 3 (ipykernel)",
   "language": "python",
   "name": "python3"
  },
  "language_info": {
   "codemirror_mode": {
    "name": "ipython",
    "version": 3
   },
   "file_extension": ".py",
   "mimetype": "text/x-python",
   "name": "python",
   "nbconvert_exporter": "python",
   "pygments_lexer": "ipython3",
   "version": "3.10.6"
  }
 },
 "nbformat": 4,
 "nbformat_minor": 5
}
