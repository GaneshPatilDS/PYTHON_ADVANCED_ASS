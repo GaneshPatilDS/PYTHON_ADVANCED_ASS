{
 "cells": [
  {
   "cell_type": "markdown",
   "id": "b1ffe9c1-db91-4898-9c2d-599eb858f40e",
   "metadata": {},
   "source": [
    "## QUESTIONS \n",
    "\n",
    "1. How would you describe TensorFlow in a short sentence? What are its main features? Can\n",
    "   you name other popular Deep Learning libraries?\n",
    "   \n",
    "2. Is TensorFlow a drop-in replacement for NumPy? What are the main differences between\n",
    "   the two?\n",
    "   \n",
    "3. Do you get the same result with tf.range(10) and tf.constant(np.arange(10))?\n",
    "\n",
    "4. Can you name six other data structures available in TensorFlow, beyond regular tensors?\n",
    "\n",
    "5. A custom loss function can be defined by writing a function or by subclassing\n",
    "   the keras.losses.Loss class. When would you use each option?\n",
    "   \n",
    "6. Similarly, a custom metric can be defined in a function or a subclass of keras.metrics.Metric.\n",
    "   When would you use each option?\n",
    "   \n",
    "7. When should you create a custom layer versus a custom model?\n",
    "\n",
    "8. What are some use cases that require writing your own custom training loop?\n",
    "\n",
    "9. Can custom Keras components contain arbitrary Python code, or must they be convertible to\n",
    "   TF Functions?\n",
    "   \n",
    "10. What are the main rules to respect if you want a function to be convertible to a TF Function?\n",
    "\n",
    "11. When would you need to create a dynamic Keras model? How do you do that? Why not\n",
    "    make all your models dynamic?\n",
    "    \n",
    "--------------------------------------------------------------------------------------------------------------------------------------------------------------------    "
   ]
  },
  {
   "cell_type": "markdown",
   "id": "a699abf9-7f1f-4c4b-8644-7bfc524244b7",
   "metadata": {},
   "source": [
    "## ANS :"
   ]
  },
  {
   "cell_type": "markdown",
   "id": "da167ecf-6f20-4a04-9cd8-790f018bf60c",
   "metadata": {},
   "source": []
  }
 ],
 "metadata": {
  "kernelspec": {
   "display_name": "Python 3 (ipykernel)",
   "language": "python",
   "name": "python3"
  },
  "language_info": {
   "codemirror_mode": {
    "name": "ipython",
    "version": 3
   },
   "file_extension": ".py",
   "mimetype": "text/x-python",
   "name": "python",
   "nbconvert_exporter": "python",
   "pygments_lexer": "ipython3",
   "version": "3.10.6"
  }
 },
 "nbformat": 4,
 "nbformat_minor": 5
}
