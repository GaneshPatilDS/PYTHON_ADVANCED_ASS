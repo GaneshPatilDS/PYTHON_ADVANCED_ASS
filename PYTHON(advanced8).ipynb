{
 "cells": [
  {
   "cell_type": "markdown",
   "id": "60de96f2-7b1e-40f9-a090-94bf4e1a35aa",
   "metadata": {},
   "source": [
    "# QUESTIONS :"
   ]
  },
  {
   "cell_type": "markdown",
   "id": "5ee7edb0-8278-41e6-9832-61f850983e90",
   "metadata": {},
   "source": [
    "--------------------------------------------------------------------------------------------------------------\n",
    "\n",
    "Q1. What are the two latest user-defined exception constraints in Python 3.X?\n",
    "\n",
    "Q2. How are class-based exceptions that have been raised matched to handlers?\n",
    "\n",
    "Q3. Describe two methods for attaching context information to exception artefacts.\n",
    "\n",
    "Q4. Describe two methods for specifying the text of an exception object&#39;s error message.\n",
    "\n",
    "Q5. Why do you no longer use string-based exceptions?\n",
    "\n",
    "--------------------------------------------------------------------------------------------------------------"
   ]
  },
  {
   "cell_type": "markdown",
   "id": "62bbf975-a10d-419b-8a5b-46048f9b0d2f",
   "metadata": {},
   "source": [
    "# ANS :"
   ]
  },
  {
   "cell_type": "markdown",
   "id": "e41568ef-3d97-485b-9ab1-af82fe026a6d",
   "metadata": {},
   "source": [
    "--------------------------------------------------------------------------------------------------------------\n",
    "\n",
    "**Q1. What are the two latest user-defined exception constraints in Python 3.X?**\n",
    "\n",
    "- As of my last knowledge update in September 2021, there were no specific \"latest\" user-defined exception constraints introduced in Python 3.X. However, Python allows you to create custom exceptions by defining new classes that inherit from the built-in `Exception` class. You can add constraints to these custom exceptions by defining your own attributes and methods.\n",
    "\n",
    "--------------------------------------------------------------------------------------------------------------\n",
    "**Q2. How are class-based exceptions that have been raised matched to handlers?**\n",
    "\n",
    "- Class-based exceptions are matched to handlers using the order in which the `except` clauses are defined in a `try-except` block. Python searches for the first `except` clause whose exception class matches the raised exception (or a base class of the raised exception). Once a match is found, the code in that `except` block is executed.\n",
    "\n",
    "--------------------------------------------------------------------------------------------------------------\n",
    "\n",
    "**Q3. Describe two methods for attaching context information to exception artifacts.**\n",
    "\n",
    "   - **Using Custom Exception Classes:** You can create custom exception classes that inherit from Python's built-in exception classes (e.g., `Exception`, `ValueError`, etc.). In these custom classes, you can define attributes to store context information specific to the exception.\n",
    "   - **Using Exception Arguments:** When raising an exception, you can pass additional context information as arguments to the exception class constructor. For example: `raise ValueError(\"Invalid value: \" + str(some_value))`.\n",
    "   \n",
    "--------------------------------------------------------------------------------------------------------------\n",
    "\n",
    "**Q4. Describe two methods for specifying the text of an exception object's error message.**\n",
    "\n",
    "   - **Using the Exception Class Constructor:** When raising an exception, you can provide a custom error message as an argument to the exception class constructor. For example: `raise ValueError(\"Custom error message\")`.\n",
    "   - **Creating Custom Exception Classes:** You can create custom exception classes that override the `__str__` method to specify the error message format. This way, when you raise an instance of your custom exception class, it can generate a customized error message.\n",
    "\n",
    "--------------------------------------------------------------------------------------------------------------\n",
    "\n",
    "**Q5. Why do you no longer use string-based exceptions?**\n",
    "\n",
    "   - In older versions of Python (before Python 2.5), string-based exceptions were used to represent errors. However, they had several limitations:\n",
    "     - Lack of structured information: String-based exceptions didn't provide a structured way to convey information about the exception, making it harder to handle errors programmatically.\n",
    "     - No hierarchy: String-based exceptions didn't support exception hierarchies, making it challenging to catch specific types of exceptions.\n",
    "     - Not Pythonic: String-based exceptions didn't align with Python's philosophy of using objects to represent concepts.\n",
    "   - In Python 2.5 and later versions, class-based exceptions were introduced, which provided better error handling, improved readability, and support for exception hierarchies. Therefore, string-based exceptions are no longer recommended or used in modern Python code.Certainly, here are the answers to your questions:\n",
    "\n",
    "--------------------------------------------------------------------------------------------------------------\n",
    "\n",
    "**Q1. What are the two latest user-defined exception constraints in Python 3.X?**\n",
    "- As of my last knowledge update in September 2021, there were no specific \"latest\" user-defined exception constraints introduced in Python 3.X. However, Python allows you to create custom exceptions by defining new classes that inherit from the built-in `Exception` class. You can add constraints to these custom exceptions by defining your own attributes and methods.\n",
    "\n",
    "--------------------------------------------------------------------------------------------------------------\n",
    "\n",
    "**Q2. How are class-based exceptions that have been raised matched to handlers?**\n",
    "- Class-based exceptions are matched to handlers using the order in which the `except` clauses are defined in a `try-except` block. Python searches for the first `except` clause whose exception class matches the raised exception (or a base class of the raised exception). Once a match is found, the code in that `except` block is executed.\n",
    "\n",
    "**Q3. Describe two methods for attaching context information to exception artifacts.**\n",
    "   - **Using Custom Exception Classes:** You can create custom exception classes that inherit from Python's built-in exception classes (e.g., `Exception`, `ValueError`, etc.). In these custom classes, you can define attributes to store context information specific to the exception.\n",
    "   - **Using Exception Arguments:** When raising an exception, you can pass additional context information as arguments to the exception class constructor. For example: `raise ValueError(\"Invalid value: \" + str(some_value))`.\n",
    "\n",
    "**Q4. Describe two methods for specifying the text of an exception object's error message.**\n",
    "   - **Using the Exception Class Constructor:** When raising an exception, you can provide a custom error message as an argument to the exception class constructor. For example: `raise ValueError(\"Custom error message\")`.\n",
    "   - **Creating Custom Exception Classes:** You can create custom exception classes that override the `__str__` method to specify the error message format. This way, when you raise an instance of your custom exception class, it can generate a customized error message.\n",
    "\n",
    "**Q5. Why do you no longer use string-based exceptions?**\n",
    "   - In older versions of Python (before Python 2.5), string-based exceptions were used to represent errors. However, they had several limitations:\n",
    "     - Lack of structured information: String-based exceptions didn't provide a structured way to convey information about the exception, making it harder to handle errors programmatically.\n",
    "     - No hierarchy: String-based exceptions didn't support exception hierarchies, making it challenging to catch specific types of exceptions.\n",
    "     - Not Pythonic: String-based exceptions didn't align with Python's philosophy of using objects to represent concepts.\n",
    "   - In Python 2.5 and later versions, class-based exceptions were introduced, which provided better error handling, improved readability, and support for exception hierarchies. Therefore, string-based exceptions are no longer recommended or used in modern Python code."
   ]
  }
 ],
 "metadata": {
  "kernelspec": {
   "display_name": "Python 3 (ipykernel)",
   "language": "python",
   "name": "python3"
  },
  "language_info": {
   "codemirror_mode": {
    "name": "ipython",
    "version": 3
   },
   "file_extension": ".py",
   "mimetype": "text/x-python",
   "name": "python",
   "nbconvert_exporter": "python",
   "pygments_lexer": "ipython3",
   "version": "3.10.6"
  }
 },
 "nbformat": 4,
 "nbformat_minor": 5
}
